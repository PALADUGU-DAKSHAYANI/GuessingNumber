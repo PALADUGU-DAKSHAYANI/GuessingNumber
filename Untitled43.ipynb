{
  "nbformat": 4,
  "nbformat_minor": 0,
  "metadata": {
    "colab": {
      "provenance": [],
      "authorship_tag": "ABX9TyO1gdjAAtRx4++yYZQVKq6x",
      "include_colab_link": true
    },
    "kernelspec": {
      "name": "python3",
      "display_name": "Python 3"
    },
    "language_info": {
      "name": "python"
    }
  },
  "cells": [
    {
      "cell_type": "markdown",
      "metadata": {
        "id": "view-in-github",
        "colab_type": "text"
      },
      "source": [
        "<a href=\"https://colab.research.google.com/github/PALADUGU-DAKSHAYANI/GuessingNumber/blob/main/Untitled43.ipynb\" target=\"_parent\"><img src=\"https://colab.research.google.com/assets/colab-badge.svg\" alt=\"Open In Colab\"/></a>"
      ]
    },
    {
      "cell_type": "code",
      "source": [
        "#reversing Words by also removing extra spaces\n",
        "from collections import deque\n",
        "class stack:\n",
        "  def __init__(self):\n",
        "    self.container=deque()\n",
        "  def push(self,val):\n",
        "    self.container.append(val)\n",
        "  def pop(self):\n",
        "    if(len(self.container)==0):\n",
        "      return;\n",
        "    if(len(self.container)!=0):\n",
        "        return self.container.pop()\n",
        "l=input(\"Enter the string that is to be reverse \")\n",
        "result=\"\"\n",
        "s=stack()\n",
        "for i in range(len(l)-1,-1,-1):\n",
        "  if((l[i]==' ' and i==len(l)-1) or (l[i]==' ' and i==0)):\n",
        "    continue\n",
        "  if(l[i]==' ' and l[i+1]==' '):\n",
        "    continue\n",
        "  elif(l[i]!=' '):\n",
        "    s.push(l[i])\n",
        "  elif(l[i]==' '):\n",
        "    k=s.pop()\n",
        "    while(k):\n",
        "     result=result+k\n",
        "     k=s.pop()\n",
        "    result=result+' '\n",
        "k=s.pop()\n",
        "while(k):\n",
        "  result=result+k\n",
        "  k=s.pop()\n",
        "print(result)"
      ],
      "metadata": {
        "id": "AfNFaXqrEnzq",
        "colab": {
          "base_uri": "https://localhost:8080/"
        },
        "outputId": "f830c2af-70c9-49f9-f831-f0726d0f1c74"
      },
      "execution_count": 17,
      "outputs": [
        {
          "output_type": "stream",
          "name": "stdout",
          "text": [
            "Enter the string that is to be reverse Hello         World     \n",
            "World Hello\n"
          ]
        }
      ]
    },
    {
      "cell_type": "code",
      "source": [
        "#normal reversing\n",
        "from collections import deque\n",
        "class stack:\n",
        "  def __init__(self):\n",
        "    self.container=deque()\n",
        "  def push(self,val):\n",
        "    self.container.append(val)\n",
        "  def pop(self):\n",
        "    if(len(self.container)==0):\n",
        "      return;\n",
        "    if(len(self.container)!=0):\n",
        "        return self.container.pop()\n",
        "l=input(\"Enter the string that is to be reverse \")\n",
        "result=\"\"\n",
        "s=stack()\n",
        "n=len(l)\n",
        "for i in range(0,n):\n",
        "  s.push(l[i])\n",
        "for i in range(0,n):\n",
        "  result=result+s.pop()\n",
        "print(result)"
      ],
      "metadata": {
        "colab": {
          "base_uri": "https://localhost:8080/"
        },
        "id": "YfrOwu2LGxnb",
        "outputId": "40d148fb-4ecd-4c19-a6e0-926c17c37f40"
      },
      "execution_count": 19,
      "outputs": [
        {
          "output_type": "stream",
          "name": "stdout",
          "text": [
            "Enter the string that is to be reverse Hello             World\n",
            "dlroW             olleH\n"
          ]
        }
      ]
    },
    {
      "cell_type": "code",
      "source": [
        "from collections import deque\n",
        "class stack:\n",
        "  def __init__(self):\n",
        "    self.container=deque()\n",
        "  def push(self,val):\n",
        "    self.container.append(val)\n",
        "  def pop(self):\n",
        "    if(len(self.container)==0):\n",
        "      return;\n",
        "    if(len(self.container)!=0):\n",
        "        return self.container.pop()\n",
        "l=input(\"Enter the string that is to be reverse \")\n",
        "result=\"\"\n",
        "s=stack()\n",
        "n=len(l)\n",
        "for i in range(0,n):\n",
        "  if((l[i]==' ' and i==len(l)-1) or (l[i]==' ' and i==0)):\n",
        "    continue\n",
        "  if(l[i]==' ' and l[i+1]==' '):\n",
        "    continue\n",
        "  elif(l[i]!=' '):\n",
        "    s.push(l[i])\n",
        "  elif(l[i]==' '):\n",
        "    k=s.pop()\n",
        "    while(k):\n",
        "     result=result+k\n",
        "     k=s.pop()\n",
        "    result=result+' '\n",
        "k=s.pop()\n",
        "while(k):\n",
        "  result=result+k\n",
        "  k=s.pop()\n",
        "print(result)"
      ],
      "metadata": {
        "colab": {
          "base_uri": "https://localhost:8080/"
        },
        "id": "BobzVtEvJ-IX",
        "outputId": "afe5f486-3f74-47b3-a254-234c798ae34e"
      },
      "execution_count": 23,
      "outputs": [
        {
          "output_type": "stream",
          "name": "stdout",
          "text": [
            "Enter the string that is to be reverse         Hello  World\n",
            " olleH dlroW\n"
          ]
        }
      ]
    },
    {
      "cell_type": "code",
      "source": [
        "from collections import deque\n",
        "class stack:\n",
        "  def __init__(self):\n",
        "    self.container=deque()\n",
        "  def push(self,val):\n",
        "    self.container.append(val)\n",
        "  def pop(self):\n",
        "    if(len(self.container)==0):\n",
        "      return;\n",
        "    if(len(self.container)!=0):\n",
        "        return self.container.pop()\n",
        "l=input(\"Enter the string that is to be reverse \")\n",
        "result=\"\"\n",
        "s=stack()\n",
        "r=l.split(' ')\n",
        "k=[x for x in r if x!='']\n",
        "print(k)\n",
        "for i in range(len(k)-1,-1,-1):\n",
        "  p=k[i]\n",
        "  for i in p:\n",
        "    s.push(i)\n",
        "  for i in p:\n",
        "    result=result+s.pop()\n",
        "  result=result+' '\n",
        "print(result)"
      ],
      "metadata": {
        "colab": {
          "base_uri": "https://localhost:8080/"
        },
        "id": "gEil8MnrK4wL",
        "outputId": "0bee4760-251f-4573-ae1c-91957e96b44e"
      },
      "execution_count": 47,
      "outputs": [
        {
          "output_type": "stream",
          "name": "stdout",
          "text": [
            "Enter the string that is to be reverse      Hello    World    \n",
            "['Hello', 'World']\n",
            "dlroW olleH \n"
          ]
        }
      ]
    }
  ]
}